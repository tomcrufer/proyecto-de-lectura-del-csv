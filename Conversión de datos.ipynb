{
 "cells": [
  {
   "cell_type": "markdown",
   "metadata": {},
   "source": [
    "## Fundamentos de Programación\n",
    "# Lectura y conversión de datos\n",
    "**Autor**: Mariano González.   **Revisores**: Miguel Toro, Toñi Reina, Daniel Mateos.   **Última modificación:** 3 de octubre de 2022"
   ]
  },
  {
   "cell_type": "markdown",
   "metadata": {},
   "source": [
    "Al leer las líneas de un fichero de texto, estas se leen como cadenas de caracteres. Si los datos que contiene el fichero representan valores numéricos, fechas, horas, o en general valores que no son cadenas, hay que convertirlos al tipo correspondiente. En este notebook vamos a ver cómo se realiza esta transformación."
   ]
  },
  {
   "cell_type": "markdown",
   "metadata": {},
   "source": [
    "En primer lugar, veremos cómo se realiza esta transformación con los tipos de datos más habituales. Supondremos para ello que tenemos almacenada en una variable de tipo cadena el valor que se ha leído del fichero. A continuación, veremos un ejemplo concreto en el que leeremos los datos de un fichero CSV."
   ]
  },
  {
   "cell_type": "markdown",
   "metadata": {},
   "source": [
    "### Índice\n",
    "* [1. Conversión de datos](#sec_conversion)\n",
    " * [1.1. Valores numéricos](#sec_numericos)\n",
    " * [1.2. Fechas y horas](#sec_fechas)\n",
    " * [1.3. Valores booleanos](#sec_booleanos)\n",
    "* [2. Ejemplo de lectura de un fichero CSV](#sec_ejemplo)"
   ]
  },
  {
   "cell_type": "markdown",
   "metadata": {},
   "source": [
    "## 1. Conversión de datos <a name=\"sec_conversion\"/>"
   ]
  },
  {
   "cell_type": "markdown",
   "metadata": {},
   "source": [
    "### 1.1 Valores numéricos <a name=\"sec_numericos\"/>"
   ]
  },
  {
   "cell_type": "markdown",
   "metadata": {},
   "source": [
    "Para convertir una cadena que contiene dígitos numéricos en un valor entero, usamos la funcion `int`:"
   ]
  },
  {
   "cell_type": "code",
   "execution_count": null,
   "metadata": {},
   "outputs": [],
   "source": [
    "cadena = \"123\"\n",
    "\n",
    "numero = int(cadena)\n",
    "print(f\"El valor entero de la cadena '{cadena}' es: {numero}\")"
   ]
  },
  {
   "cell_type": "markdown",
   "metadata": {},
   "source": [
    "De forma similar, para convertir una cadena que contiene dígitos numéricos y el punto decimal en un valor real, usamos la función `float`:"
   ]
  },
  {
   "cell_type": "code",
   "execution_count": null,
   "metadata": {},
   "outputs": [],
   "source": [
    "cadena = \"7.92\"\n",
    "\n",
    "numero = float(cadena)\n",
    "print(f\"El valor real de la cadena '{cadena}' es: {numero}\")"
   ]
  },
  {
   "cell_type": "markdown",
   "metadata": {},
   "source": [
    "### 1.2 Fechas y horas <a name=\"sec_fechas\"/>"
   ]
  },
  {
   "cell_type": "markdown",
   "metadata": {},
   "source": [
    "Para convertir cadenas que representan fechas y horas en objetos de tipo `datetime` hay que importar el módulo datetime:"
   ]
  },
  {
   "cell_type": "code",
   "execution_count": null,
   "metadata": {},
   "outputs": [],
   "source": [
    "from datetime import datetime"
   ]
  },
  {
   "cell_type": "markdown",
   "metadata": {},
   "source": [
    "Para realizar la conversión se utiliza la función `strptime`. Esta función recibe dos parámetros: la cadena a convertir y el formato de la cadena. La cadena a convertir contiene los valores del día, mes, año, hora, minutos y segundos, además de otros caracteres que actúan como separadores. El formato contiene unos códigos que indican lo que representa cada valor de la cadena: `%d` representa el día, `%m` el mes, `%Y` el año, `%H` la hora, `%M` los minutos y `%S` los segundos. La referencia completa de códigos se puede ver en https://docs.python.org/3/library/datetime.html#strftime-and-strptime-format-codes."
   ]
  },
  {
   "cell_type": "markdown",
   "metadata": {},
   "source": [
    "Veamos el caso de las fechas:"
   ]
  },
  {
   "cell_type": "code",
   "execution_count": null,
   "metadata": {},
   "outputs": [],
   "source": [
    "cadena = \"13/11/2020\"\n",
    "\n",
    "fecha = datetime.strptime(cadena, \"%d/%m/%Y\").date()\n",
    "print(f\"El objeto date para la fecha '{cadena}' es: {fecha}\")"
   ]
  },
  {
   "cell_type": "markdown",
   "metadata": {},
   "source": [
    "Observa que la función `strptime` devuelve un objeto `datetime`, que representa una fecha y una hora. Como la cadena solo contiene la información de la fecha, aplicamos a este objeto el método `date` para quedarnos con la parte de la fecha."
   ]
  },
  {
   "cell_type": "markdown",
   "metadata": {},
   "source": [
    "Para las horas, sería así:"
   ]
  },
  {
   "cell_type": "code",
   "execution_count": null,
   "metadata": {},
   "outputs": [],
   "source": [
    "cadena = \"7-55-27\"\n",
    "\n",
    "hora = datetime.strptime(cadena, \"%H-%M-%S\").time()\n",
    "print(f\"El objeto time para la hora '{cadena}' es: {hora}\")"
   ]
  },
  {
   "cell_type": "markdown",
   "metadata": {},
   "source": [
    "En este caso la cadena solo contiene la información de la hora, por lo que aplicamos al objeto devuelto por `strptime` el método `time` para quedarnos con la parte de la hora."
   ]
  },
  {
   "cell_type": "markdown",
   "metadata": {},
   "source": [
    "Por último, podríamos tener en la cadena tanto la fecha como la hora. En ese caso, nos quedaríamos directamente con el valor devuelto por `strptime`."
   ]
  },
  {
   "cell_type": "code",
   "execution_count": null,
   "metadata": {},
   "outputs": [],
   "source": [
    "cadena = \"11/13/2020-7:55:27\"\n",
    "\n",
    "fechahora = datetime.strptime(cadena, \"%m/%d/%Y-%H:%M:%S\")\n",
    "print(f\"El objeto datetime para la fecha y hora '{cadena}' es: {fechahora}\")"
   ]
  },
  {
   "cell_type": "markdown",
   "metadata": {},
   "source": [
    "Estas operaciones de conversión las tendremos que realizar cada vez que leamos una fecha o una hora de un fichero, así que es razonable disponer de unas funciones que realicen estas conversiones e invocarlas cuando las necesitemos. Definamos pues varias funciones que reciban como parámetros una cadena que representa una fecha, una hora o ambas cosas, junto con el formato en el que están expresadas, y devuelvan como resultado un objeto de tipo `date`, `time` o `datetime`, respectivamente:"
   ]
  },
  {
   "cell_type": "code",
   "execution_count": null,
   "metadata": {},
   "outputs": [],
   "source": [
    "def parse_date(cadena, formato = \"%d/%m/%Y\"):\n",
    "    return datetime.strptime(cadena, formato).date()\n",
    "\n",
    "def parse_time(cadena, formato = '%H:%M:%S'):\n",
    "    return datetime.strptime(cadena, formato).time()\n",
    "\n",
    "def parse_datetime(cadena, formato = '%d/%m/%Y-%H:%M:%S'):\n",
    "    return datetime.strptime(cadena, formato)"
   ]
  },
  {
   "cell_type": "markdown",
   "metadata": {},
   "source": [
    "Veamos de nuevo las operaciones anteriores, usando estas funciones:"
   ]
  },
  {
   "cell_type": "code",
   "execution_count": null,
   "metadata": {},
   "outputs": [],
   "source": [
    "cadena = \"13/11/2020\"\n",
    "\n",
    "fecha = parse_date(cadena)\n",
    "print(f\"El objeto date para la fecha '{cadena}' es: {fecha}\")"
   ]
  },
  {
   "cell_type": "code",
   "execution_count": null,
   "metadata": {},
   "outputs": [],
   "source": [
    "cadena = \"7:55:27\"\n",
    "\n",
    "hora = parse_time(cadena)\n",
    "print(f\"El objeto time para la hora '{cadena}' es: {hora}\")"
   ]
  },
  {
   "cell_type": "code",
   "execution_count": null,
   "metadata": {},
   "outputs": [],
   "source": [
    "cadena = \"13/11/2020-7:55:27\"\n",
    "\n",
    "fechahora = parse_datetime(cadena)\n",
    "print(f\"El objeto datetime para la fecha y hora '{cadena}' es: {fechahora}\")"
   ]
  },
  {
   "cell_type": "markdown",
   "metadata": {},
   "source": [
    "Observa que en las llamadas a las funciones hemos omitido el segundo parámetro, por lo cual se toma el valor definido por defecto en la cabecera de la función. Esto lo podemos hacer porque la representación de las fechas y las horas coincide con el formato por defecto; si no fuera así, habría que pasar este formato como parámetro. Por ejemplo:"
   ]
  },
  {
   "cell_type": "code",
   "execution_count": null,
   "metadata": {},
   "outputs": [],
   "source": [
    "cadena = \"13-November-2020\"\n",
    "\n",
    "fecha = parse_date(cadena, \"%d-%B-%Y\")\n",
    "print(f\"El objeto date para la fecha '{cadena}' es: {fecha}\")"
   ]
  },
  {
   "cell_type": "markdown",
   "metadata": {},
   "source": [
    "### 1.3 Valores booleanos <a name=\"sec_booleanos\"/>"
   ]
  },
  {
   "cell_type": "markdown",
   "metadata": {},
   "source": [
    "Los valores booleanos pueden aparecer de muchas formas en el fichero; pueden ser '0' y '1', 'true' y 'false', 'Sí' o 'No', etc. Hay que convertir estos valores a los literales de tipo `bool`, que son `True` y `False`. Para ello hacemos uso de una estructura condicional. Por ejemplo, si los valores son 'SI' y 'NO', haremos lo siguiente:"
   ]
  },
  {
   "cell_type": "code",
   "execution_count": null,
   "metadata": {},
   "outputs": [],
   "source": [
    "cadena = 'NO'\n",
    "\n",
    "if cadena == 'SI':\n",
    "    booleano = True\n",
    "else:\n",
    "    booleano = False\n",
    "print(f\"El valor booleano de la cadena '{cadena}' es: {booleano}\")"
   ]
  },
  {
   "cell_type": "markdown",
   "metadata": {},
   "source": [
    "Al igual que con las fechas y horas, es conveniente definir una función que realice la conversión e invocarla cuando la necesitemos."
   ]
  },
  {
   "cell_type": "code",
   "execution_count": null,
   "metadata": {},
   "outputs": [],
   "source": [
    "def parse_bool(cadena):\n",
    "    if cadena == 'SI':\n",
    "        booleano = True\n",
    "    else:\n",
    "        booleano = False\n",
    "    return booleano"
   ]
  },
  {
   "cell_type": "markdown",
   "metadata": {},
   "source": [
    "La conversión quedaría entonces así:"
   ]
  },
  {
   "cell_type": "code",
   "execution_count": null,
   "metadata": {},
   "outputs": [],
   "source": [
    "cadena = 'NO'\n",
    "\n",
    "booleano = parse_bool(cadena)\n",
    "print(f\"El valor booleano de la cadena '{cadena}' es: {booleano}\")"
   ]
  },
  {
   "cell_type": "markdown",
   "metadata": {},
   "source": [
    "Es importante notar que la conversión mediante la función `bool` de una cadena con valor 'True' o 'False' no produce el resultado que podríamos esperar:"
   ]
  },
  {
   "cell_type": "code",
   "execution_count": null,
   "metadata": {},
   "outputs": [],
   "source": [
    "cadena = 'True'\n",
    "print(f\"bool('{cadena}') es: {bool(cadena)}\")\n",
    "\n",
    "cadena = 'False'\n",
    "print(f\"bool('{cadena}') es: {bool(cadena)}\")\n",
    "\n",
    "cadena = ''\n",
    "print(f\"bool('{cadena}') es: {bool(cadena)}\")"
   ]
  },
  {
   "cell_type": "markdown",
   "metadata": {},
   "source": [
    "Como se puede apreciar, el valor devuelto por la función `bool` es `True` para cualquier cadena salvo para la cadena vacía."
   ]
  },
  {
   "cell_type": "markdown",
   "metadata": {},
   "source": [
    "## 2. Ejemplo de lectura de un fichero CSV <a name=\"sec_ejemplo\"/>"
   ]
  },
  {
   "cell_type": "markdown",
   "metadata": {},
   "source": [
    "Sea un fichero CSV que contiene información sobre la flota de autobuses urbanos de una ciudad. Los primeros registros de este fichero son los siguientes:\n",
    "\n",
    "```\n",
    "matricula,fabricante,inicio,capacidad,asientos,kilometros,articulado\n",
    "2134GVM,MAN,7/3/2010,65,40,65540.7,SI\n",
    "0129JVH,SCANIA,25/11/2016,45,33,34708.2,NO\n",
    "8535HDR,MAN,18/5/2011,49,35,59835.9,NO\n",
    "```\n",
    "\n",
    "Vamos a escribir una función que lea este fichero y cree una lista de tuplas, donde cada tupla represente un registro del fichero (un autobús).\n",
    "\n",
    "En primer lugar, definimos una tupla con nombre para almacenar los registros:"
   ]
  },
  {
   "cell_type": "code",
   "execution_count": null,
   "metadata": {},
   "outputs": [],
   "source": [
    "from collections import namedtuple\n",
    "\n",
    "Autobus = namedtuple('Autobus', 'matricula, fabricante, inicio, capacidad, \\\n",
    "    asientos, kilometros, articulado')"
   ]
  },
  {
   "cell_type": "markdown",
   "metadata": {},
   "source": [
    "Ahora escribimos una función que lea el fichero, línea a línea, almacene los datos de cada autobús en una tupla, y los vaya añadiendo todos a una lista:"
   ]
  },
  {
   "cell_type": "code",
   "execution_count": null,
   "metadata": {},
   "outputs": [],
   "source": [
    "import csv\n",
    "\n",
    "def lee_autobuses(nombre_fichero):\n",
    "    autobuses = []\n",
    "    with open(nombre_fichero, encoding='utf-8') as f:\n",
    "        lector = csv.reader(f)\n",
    "        next(lector)\n",
    "        for matricula, fabricante, inicio, capacidad, asientos, kilometros, articulado in lector:\n",
    "            inicio = parse_date(inicio)\n",
    "            capacidad = int(capacidad)\n",
    "            asientos = int (asientos)\n",
    "            kilometros = float(kilometros)\n",
    "            articulado = parse_bool(articulado)\n",
    "            tupla = Autobus(matricula, fabricante, inicio, capacidad, asientos, \\\n",
    "                            kilometros, articulado)\n",
    "            autobuses.append(tupla)\n",
    "    return autobuses"
   ]
  },
  {
   "cell_type": "markdown",
   "metadata": {},
   "source": [
    "Por último, probamos la función de lectura y mostramos los tres primeros y los tres últimos autobuses de la lista:"
   ]
  },
  {
   "cell_type": "code",
   "execution_count": null,
   "metadata": {},
   "outputs": [],
   "source": [
    "autobuses = lee_autobuses(\"tussam.csv\")\n",
    "print(\"Los tres primeros autobuses son:\\n\", autobuses[:3])\n",
    "print(\"\\nLos tres últimos autobuses son:\\n\", autobuses[-3:])"
   ]
  }
 ],
 "metadata": {
  "kernelspec": {
   "display_name": "Python 3.9.12 ('base')",
   "language": "python",
   "name": "python3"
  },
  "language_info": {
   "codemirror_mode": {
    "name": "ipython",
    "version": 3
   },
   "file_extension": ".py",
   "mimetype": "text/x-python",
   "name": "python",
   "nbconvert_exporter": "python",
   "pygments_lexer": "ipython3",
   "version": "3.9.12"
  },
  "vscode": {
   "interpreter": {
    "hash": "cb790d26adefd25b1df2c204a2fba72095097c2a9b0d8e87b4649a8ce32b8fe4"
   }
  }
 },
 "nbformat": 4,
 "nbformat_minor": 4
}
